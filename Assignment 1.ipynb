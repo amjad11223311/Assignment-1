{
 "cells": [
  {
   "cell_type": "code",
   "execution_count": 49,
   "id": "a10face1",
   "metadata": {},
   "outputs": [
    {
     "name": "stdout",
     "output_type": "stream",
     "text": [
      "Reviews saved to amazon_reviews.csv\n"
     ]
    }
   ],
   "source": [
    "import requests\n",
    "from bs4 import BeautifulSoup\n",
    "import csv\n",
    "import time\n",
    "\n",
    "# Group Members:\n",
    "# Member 1: [amjad almassri], [IS01081643]\n",
    "# Member 2: [Haliki Bachar Djimet], [IS01081569]\n",
    "\n",
    "def get_reviews(url):\n",
    "    reviews = []\n",
    "    \n",
    "    for page in range(1, 6): \n",
    "        page_url = url + f\"&pageNumber={page}\"\n",
    "        response = requests.get(page_url)\n",
    "        if response.status_code == 200:\n",
    "            soup = BeautifulSoup(response.text, 'html.parser')\n",
    "            review_items = soup.find_all('div', class_='review')\n",
    "            for review_item in review_items:\n",
    "                review = {}\n",
    "                reviewer_name = review_item.find('span', class_='a-profile-name').text.strip()\n",
    "                review_date = review_item.find('span', class_='review-date').text.strip().split('on ')[-1]\n",
    "                review_content = review_item.find('span', class_='review-text').text.strip()\n",
    "                review['Reviewer Name'] = reviewer_name\n",
    "                review['Review Date'] = review_date\n",
    "                review['Review Content'] = review_content\n",
    "                reviews.append(review)\n",
    "            time.sleep(1)  \n",
    "    return reviews\n",
    "\n",
    "def save_to_csv(reviews, filename):\n",
    "\n",
    "    fieldnames = ['Reviewer Name', 'Review Date', 'Review Content']\n",
    "    with open(filename, 'w', newline='', encoding='utf-8') as csvfile:\n",
    "        writer = csv.DictWriter(csvfile, fieldnames=fieldnames)\n",
    "        writer.writeheader()\n",
    "        writer.writerows(reviews)\n",
    "    print(f\"Reviews saved to {filename}\")\n",
    "\n",
    "\n",
    "product_url = \"https://www.amazon.com/BENGOO-G9000-Controller-Cancelling-Headphones/dp/B01H6GUCCQ/ref=sr_1_1?_encoding=UTF8&content-id=amzn1.sym.12129333-2117-4490-9c17-6d31baf0582a&dib=eyJ2IjoiMSJ9.utUccbotzS-1LxUPRWzJM3zrqFokimqa8U_wKsdBjBOaKI0nOe3ZtLvvFhUgFwVA_n_dFfd0XkJkY9y1xi9wwI4mEnyZonxzYp7DthFNg3Sp9cz-pJQjgx8TJHspHK1ipfPhspwFDuHA14X9Jqe5tOBiPMtAv8_lTqeo9bHhw6LGWJ-F-svOASysnW9_vyhkUjkurV069LDexGphkmEuBC_uE_pNOnsqlukLjyi96IU.8GRcIHPIe6yTOMotVnNdnH9nzpXovlyW7IrjkGEVxUQ&dib_tag=se&keywords=gaming+headsets&pd_rd_r=64e7c272-640b-4332-b2b8-604854059169&pd_rd_w=D3QQ9&pd_rd_wg=7xAbr&pf_rd_p=12129333-2117-4490-9c17-6d31baf0582a&pf_rd_r=HM4PRDK7DA2D47240T8V&qid=1710731546&sr=8-1\"\n",
    "\n",
    "\n",
    "reviews = get_reviews(product_url)\n",
    "\n",
    "\n",
    "save_to_csv(reviews, \"amazon_reviews.csv\")\n"
   ]
  },
  {
   "cell_type": "code",
   "execution_count": null,
   "id": "b80a608f",
   "metadata": {},
   "outputs": [],
   "source": []
  }
 ],
 "metadata": {
  "kernelspec": {
   "display_name": "Python 3 (ipykernel)",
   "language": "python",
   "name": "python3"
  },
  "language_info": {
   "codemirror_mode": {
    "name": "ipython",
    "version": 3
   },
   "file_extension": ".py",
   "mimetype": "text/x-python",
   "name": "python",
   "nbconvert_exporter": "python",
   "pygments_lexer": "ipython3",
   "version": "3.11.5"
  }
 },
 "nbformat": 4,
 "nbformat_minor": 5
}
